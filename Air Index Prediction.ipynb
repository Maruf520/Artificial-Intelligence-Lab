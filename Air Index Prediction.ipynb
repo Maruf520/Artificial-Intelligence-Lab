{
  "nbformat": 4,
  "nbformat_minor": 0,
  "metadata": {
    "colab": {
      "name": "Untitled7.ipynb",
      "provenance": [],
      "authorship_tag": "ABX9TyPkDgtR6VDCxOtABnLFORea",
      "include_colab_link": true
    },
    "kernelspec": {
      "name": "python3",
      "display_name": "Python 3"
    }
  },
  "cells": [
    {
      "cell_type": "markdown",
      "metadata": {
        "id": "view-in-github",
        "colab_type": "text"
      },
      "source": [
        "<a href=\"https://colab.research.google.com/github/Maruf520/Artificial-Intelligence-Lab/blob/main/Air%20Index%20Prediction.ipynb\" target=\"_parent\"><img src=\"https://colab.research.google.com/assets/colab-badge.svg\" alt=\"Open In Colab\"/></a>"
      ]
    },
    {
      "cell_type": "code",
      "metadata": {
        "id": "CAb1zuJDaCsm"
      },
      "source": [
        "import pandas as pd"
      ],
      "execution_count": 68,
      "outputs": []
    },
    {
      "cell_type": "code",
      "metadata": {
        "id": "nqs0ijDmaUGv"
      },
      "source": [
        "# loading dataset and storing in train variable \r\n",
        "train=pd.read_csv('/content/sample_data/Data1.csv')"
      ],
      "execution_count": 69,
      "outputs": []
    },
    {
      "cell_type": "code",
      "metadata": {
        "colab": {
          "base_uri": "https://localhost:8080/"
        },
        "id": "dMFlb5DNagZQ",
        "outputId": "b69e4d90-2784-4e66-f349-92192f505a45"
      },
      "source": [
        "# display top 5 data \r\n",
        "print(train)"
      ],
      "execution_count": 70,
      "outputs": [
        {
          "output_type": "stream",
          "text": [
            "   Unnamed: 0  PM2.5-AVG  PM10-AVG  ...  CO  OZONE-AVG  air_quality_index\n",
            "0           0        190       131  ...   0         63                190\n",
            "1           1        188       131  ...   0         62                188\n",
            "2           2        280       174  ...   0         52                280\n",
            "3           3        302       181  ...   0         78                302\n",
            "4           4        285       160  ...   0         71                285\n",
            "\n",
            "[5 rows x 9 columns]\n"
          ],
          "name": "stdout"
        }
      ]
    },
    {
      "cell_type": "code",
      "metadata": {
        "colab": {
          "base_uri": "https://localhost:8080/",
          "height": 282
        },
        "id": "9-XPu4EIbewL",
        "outputId": "1bb7743a-2167-4f05-eeba-07f3e929939c"
      },
      "source": [
        "train['PM2.5-AVG'].hist()"
      ],
      "execution_count": 71,
      "outputs": [
        {
          "output_type": "execute_result",
          "data": {
            "text/plain": [
              "<matplotlib.axes._subplots.AxesSubplot at 0x7f37ab74ca58>"
            ]
          },
          "metadata": {
            "tags": []
          },
          "execution_count": 71
        },
        {
          "output_type": "display_data",
          "data": {
            "image/png": "[encoded data removed]",
            "text/plain": [
              "<Figure size 432x288 with 1 Axes>"
            ]
          },
          "metadata": {
            "tags": [],
            "needs_background": "light"
          }
        }
      ]
    },
    {
      "cell_type": "code",
      "metadata": {
        "id": "8KPfM6nXb5v0"
      },
      "source": [
        "# importing Randomforest \r\n",
        "from sklearn.ensemble import AdaBoostRegressor \r\n",
        "from sklearn.ensemble import RandomForestRegressor "
      ],
      "execution_count": 72,
      "outputs": []
    },
    {
      "cell_type": "code",
      "metadata": {
        "id": "V7dfYD6_cFbM"
      },
      "source": [
        "# creating model \r\n",
        "m1 = RandomForestRegressor()"
      ],
      "execution_count": 73,
      "outputs": []
    },
    {
      "cell_type": "code",
      "metadata": {
        "id": "YwYnSkMncQjt"
      },
      "source": [
        "# seperating class label and other attributes \r\n",
        "train1 = train.drop(['air_quality_index'], axis=1) \r\n",
        "target = train['air_quality_index'] "
      ],
      "execution_count": 74,
      "outputs": []
    },
    {
      "cell_type": "code",
      "metadata": {
        "colab": {
          "base_uri": "https://localhost:8080/"
        },
        "id": "X8tqtFRlcSSb",
        "outputId": "925b2ff2-314b-491a-c2c1-c6954574d20c"
      },
      "source": [
        "# Fitting the model \r\n",
        "m1.fit(train1, target)"
      ],
      "execution_count": 75,
      "outputs": [
        {
          "output_type": "execute_result",
          "data": {
            "text/plain": [
              "RandomForestRegressor(bootstrap=True, ccp_alpha=0.0, criterion='mse',\n",
              "                      max_depth=None, max_features='auto', max_leaf_nodes=None,\n",
              "                      max_samples=None, min_impurity_decrease=0.0,\n",
              "                      min_impurity_split=None, min_samples_leaf=1,\n",
              "                      min_samples_split=2, min_weight_fraction_leaf=0.0,\n",
              "                      n_estimators=100, n_jobs=None, oob_score=False,\n",
              "                      random_state=None, verbose=0, warm_start=False)"
            ]
          },
          "metadata": {
            "tags": []
          },
          "execution_count": 75
        }
      ]
    },
    {
      "cell_type": "code",
      "metadata": {
        "colab": {
          "base_uri": "https://localhost:8080/"
        },
        "id": "rLFSbIuRcjJj",
        "outputId": "d02e8052-20f1-4a48-acc9-c0953cc65ee4"
      },
      "source": [
        "# calculating the score and the score is  97.96360799890066% \r\n",
        "m1.score(train1, target) * 100"
      ],
      "execution_count": 76,
      "outputs": [
        {
          "output_type": "execute_result",
          "data": {
            "text/plain": [
              "95.15263694163679"
            ]
          },
          "metadata": {
            "tags": []
          },
          "execution_count": 76
        }
      ]
    },
    {
      "cell_type": "code",
      "metadata": {
        "colab": {
          "base_uri": "https://localhost:8080/"
        },
        "id": "4jSer-RfcoGD",
        "outputId": "7ca4ccda-7b83-4090-ad1e-3d8ec8a8fe9d"
      },
      "source": [
        "# predicting the model with other values (testing the data) \r\n",
        "# so AQI is 123.71 \r\n",
        "m1.predict([[123, 45, 67, 34, 5, 0, 23,10]])"
      ],
      "execution_count": 77,
      "outputs": [
        {
          "output_type": "execute_result",
          "data": {
            "text/plain": [
              "array([226.41])"
            ]
          },
          "metadata": {
            "tags": []
          },
          "execution_count": 77
        }
      ]
    },
    {
      "cell_type": "code",
      "metadata": {
        "id": "VWECY_WdcwPm"
      },
      "source": [
        "# defining model \r\n",
        "m2 = AdaBoostRegressor()"
      ],
      "execution_count": 78,
      "outputs": []
    },
    {
      "cell_type": "code",
      "metadata": {
        "colab": {
          "base_uri": "https://localhost:8080/"
        },
        "id": "kxMr0OaMczQj",
        "outputId": "5ee76587-002d-43d9-c6f4-b45edd670a81"
      },
      "source": [
        "# Fitting the model \r\n",
        "m2.fit(train1, target)"
      ],
      "execution_count": 79,
      "outputs": [
        {
          "output_type": "execute_result",
          "data": {
            "text/plain": [
              "AdaBoostRegressor(base_estimator=None, learning_rate=1.0, loss='linear',\n",
              "                  n_estimators=50, random_state=None)"
            ]
          },
          "metadata": {
            "tags": []
          },
          "execution_count": 79
        }
      ]
    },
    {
      "cell_type": "code",
      "metadata": {
        "colab": {
          "base_uri": "https://localhost:8080/"
        },
        "id": "CuHmX3VEc4m7",
        "outputId": "33a012c6-f985-45cf-acc4-c8fb954e87a3"
      },
      "source": [
        "# calculating the score and the score is  96.15377360010211% \r\n",
        "m2.score(train1, target)*100\r\n",
        "# predicting the model with other values (testing the data) \r\n",
        "# so AQI is 94.42105263 \r\n"
      ],
      "execution_count": 80,
      "outputs": [
        {
          "output_type": "execute_result",
          "data": {
            "text/plain": [
              "99.96739484838605"
            ]
          },
          "metadata": {
            "tags": []
          },
          "execution_count": 80
        }
      ]
    },
    {
      "cell_type": "code",
      "metadata": {
        "colab": {
          "base_uri": "https://localhost:8080/"
        },
        "id": "1N5fp7d6dDSs",
        "outputId": "23ed3224-6c66-4ecf-d82f-e785fc2043e3"
      },
      "source": [
        "# predicting the model with other values (testing the data) \r\n",
        "# so AQI is 94.42105263\r\n",
        "m2.predict([[123, 45, 67, 34, 5, 0, 23, 10]])\r\n"
      ],
      "execution_count": 81,
      "outputs": [
        {
          "output_type": "execute_result",
          "data": {
            "text/plain": [
              "array([280.])"
            ]
          },
          "metadata": {
            "tags": []
          },
          "execution_count": 81
        }
      ]
    }
  ]
}