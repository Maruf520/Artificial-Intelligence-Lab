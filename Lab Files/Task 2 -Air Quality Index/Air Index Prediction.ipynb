{
  "nbformat": 4,
  "nbformat_minor": 0,
  "metadata": {
    "colab": {
      "name": "Untitled13.ipynb",
      "provenance": []
    },
    "kernelspec": {
      "name": "python3",
      "display_name": "Python 3"
    }
  },
  "cells": [
    {
      "cell_type": "code",
      "metadata": {
        "id": "EOObmLOjPKBW"
      },
      "source": [
        ""
      ],
      "execution_count": 15,
      "outputs": []
    },
    {
      "cell_type": "code",
      "metadata": {
        "id": "QyDJH70wN6-6"
      },
      "source": [
        "import pandas as pd\r\n",
        "from matplotlib import pyplot as plt\r\n",
        "import numpy as np\r\n",
        "import seaborn as sns"
      ],
      "execution_count": 15,
      "outputs": []
    },
    {
      "cell_type": "code",
      "metadata": {
        "id": "tEcJf4M4ORig"
      },
      "source": [
        "dataframe = pd.read_csv(\"/content/sample_data/Data.csv\")"
      ],
      "execution_count": 16,
      "outputs": []
    },
    {
      "cell_type": "code",
      "metadata": {
        "colab": {
          "base_uri": "https://localhost:8080/",
          "height": 195
        },
        "id": "pghohp1iPBbX",
        "outputId": "736ad465-3726-4da6-f5f4-79d6f5440c4b"
      },
      "source": [
        "dataframe.head()"
      ],
      "execution_count": 17,
      "outputs": [
        {
          "output_type": "execute_result",
          "data": {
            "text/html": [
              "<div>\n",
              "<style scoped>\n",
              "    .dataframe tbody tr th:only-of-type {\n",
              "        vertical-align: middle;\n",
              "    }\n",
              "\n",
              "    .dataframe tbody tr th {\n",
              "        vertical-align: top;\n",
              "    }\n",
              "\n",
              "    .dataframe thead th {\n",
              "        text-align: right;\n",
              "    }\n",
              "</style>\n",
              "<table border=\"1\" class=\"dataframe\">\n",
              "  <thead>\n",
              "    <tr style=\"text-align: right;\">\n",
              "      <th></th>\n",
              "      <th>T</th>\n",
              "      <th>TM</th>\n",
              "      <th>Tm</th>\n",
              "      <th>SLP</th>\n",
              "      <th>H</th>\n",
              "      <th>VV</th>\n",
              "      <th>V</th>\n",
              "      <th>VM</th>\n",
              "      <th>PM 2.5</th>\n",
              "    </tr>\n",
              "  </thead>\n",
              "  <tbody>\n",
              "    <tr>\n",
              "      <th>0</th>\n",
              "      <td>7.4</td>\n",
              "      <td>9.8</td>\n",
              "      <td>4.8</td>\n",
              "      <td>1017.6</td>\n",
              "      <td>93.0</td>\n",
              "      <td>0.5</td>\n",
              "      <td>4.3</td>\n",
              "      <td>9.4</td>\n",
              "      <td>219.720833</td>\n",
              "    </tr>\n",
              "    <tr>\n",
              "      <th>1</th>\n",
              "      <td>7.8</td>\n",
              "      <td>12.7</td>\n",
              "      <td>4.4</td>\n",
              "      <td>1018.5</td>\n",
              "      <td>87.0</td>\n",
              "      <td>0.6</td>\n",
              "      <td>4.4</td>\n",
              "      <td>11.1</td>\n",
              "      <td>182.187500</td>\n",
              "    </tr>\n",
              "    <tr>\n",
              "      <th>2</th>\n",
              "      <td>6.7</td>\n",
              "      <td>13.4</td>\n",
              "      <td>2.4</td>\n",
              "      <td>1019.4</td>\n",
              "      <td>82.0</td>\n",
              "      <td>0.6</td>\n",
              "      <td>4.8</td>\n",
              "      <td>11.1</td>\n",
              "      <td>154.037500</td>\n",
              "    </tr>\n",
              "    <tr>\n",
              "      <th>3</th>\n",
              "      <td>8.6</td>\n",
              "      <td>15.5</td>\n",
              "      <td>3.3</td>\n",
              "      <td>1018.7</td>\n",
              "      <td>72.0</td>\n",
              "      <td>0.8</td>\n",
              "      <td>8.1</td>\n",
              "      <td>20.6</td>\n",
              "      <td>223.208333</td>\n",
              "    </tr>\n",
              "    <tr>\n",
              "      <th>4</th>\n",
              "      <td>12.4</td>\n",
              "      <td>20.9</td>\n",
              "      <td>4.4</td>\n",
              "      <td>1017.3</td>\n",
              "      <td>61.0</td>\n",
              "      <td>1.3</td>\n",
              "      <td>8.7</td>\n",
              "      <td>22.2</td>\n",
              "      <td>200.645833</td>\n",
              "    </tr>\n",
              "  </tbody>\n",
              "</table>\n",
              "</div>"
            ],
            "text/plain": [
              "      T    TM   Tm     SLP     H   VV    V    VM      PM 2.5\n",
              "0   7.4   9.8  4.8  1017.6  93.0  0.5  4.3   9.4  219.720833\n",
              "1   7.8  12.7  4.4  1018.5  87.0  0.6  4.4  11.1  182.187500\n",
              "2   6.7  13.4  2.4  1019.4  82.0  0.6  4.8  11.1  154.037500\n",
              "3   8.6  15.5  3.3  1018.7  72.0  0.8  8.1  20.6  223.208333\n",
              "4  12.4  20.9  4.4  1017.3  61.0  1.3  8.7  22.2  200.645833"
            ]
          },
          "metadata": {
            "tags": []
          },
          "execution_count": 17
        }
      ]
    },
    {
      "cell_type": "code",
      "metadata": {
        "id": "A5Wb8X4DPEHF"
      },
      "source": [
        "dataframe=dataframe.dropna()"
      ],
      "execution_count": 18,
      "outputs": []
    },
    {
      "cell_type": "code",
      "metadata": {
        "colab": {
          "base_uri": "https://localhost:8080/"
        },
        "id": "u0gxysW1OSTV",
        "outputId": "de45426f-f6b4-4e57-ad33-7dcbfd423278"
      },
      "source": [
        "dataframe.columns"
      ],
      "execution_count": 19,
      "outputs": [
        {
          "output_type": "execute_result",
          "data": {
            "text/plain": [
              "Index(['T', 'TM', 'Tm', 'SLP', 'H', 'VV', 'V', 'VM', 'PM 2.5'], dtype='object')"
            ]
          },
          "metadata": {
            "tags": []
          },
          "execution_count": 19
        }
      ]
    },
    {
      "cell_type": "code",
      "metadata": {
        "id": "Ojd85V2rPSs8"
      },
      "source": [
        "## creating an (1 X n) matrix of air quality index\r\n",
        "def air_quality_index_label(row):\r\n",
        "    val = row['PM 2.5']\r\n",
        "    if val <= 50:\r\n",
        "        return \"Good\"\r\n",
        "    elif val <= 100:\r\n",
        "        return \"Moderate\"\r\n",
        "    elif val <= 150:\r\n",
        "        return \"Unhealthy\"\r\n",
        "    elif val <= 200:\r\n",
        "        return \"Unhealthy for Strong People\"\r\n",
        "    else:\r\n",
        "        return \"Hazardous\"\r\n",
        "    \r\n",
        "air_quality = dataframe.apply(air_quality_index_label, axis=1)"
      ],
      "execution_count": 20,
      "outputs": []
    },
    {
      "cell_type": "code",
      "metadata": {
        "colab": {
          "base_uri": "https://localhost:8080/"
        },
        "id": "thaPqCbGPbY8",
        "outputId": "6017a4ad-653e-4cb1-eb01-6e6af2fecf36"
      },
      "source": [
        "categorical_dataframe = dataframe.drop(['PM 2.5'], axis=1)\r\n",
        "categorical_dataframe.columns"
      ],
      "execution_count": 21,
      "outputs": [
        {
          "output_type": "execute_result",
          "data": {
            "text/plain": [
              "Index(['T', 'TM', 'Tm', 'SLP', 'H', 'VV', 'V', 'VM'], dtype='object')"
            ]
          },
          "metadata": {
            "tags": []
          },
          "execution_count": 21
        }
      ]
    },
    {
      "cell_type": "code",
      "metadata": {
        "colab": {
          "base_uri": "https://localhost:8080/",
          "height": 195
        },
        "id": "rp-Z2l6tQTHy",
        "outputId": "b6d1ce5c-b25d-4bb9-903c-719e1816116d"
      },
      "source": [
        "categorical_dataframe[\"Quality\"] = air_quality\r\n",
        "categorical_dataframe.head()"
      ],
      "execution_count": 22,
      "outputs": [
        {
          "output_type": "execute_result",
          "data": {
            "text/html": [
              "<div>\n",
              "<style scoped>\n",
              "    .dataframe tbody tr th:only-of-type {\n",
              "        vertical-align: middle;\n",
              "    }\n",
              "\n",
              "    .dataframe tbody tr th {\n",
              "        vertical-align: top;\n",
              "    }\n",
              "\n",
              "    .dataframe thead th {\n",
              "        text-align: right;\n",
              "    }\n",
              "</style>\n",
              "<table border=\"1\" class=\"dataframe\">\n",
              "  <thead>\n",
              "    <tr style=\"text-align: right;\">\n",
              "      <th></th>\n",
              "      <th>T</th>\n",
              "      <th>TM</th>\n",
              "      <th>Tm</th>\n",
              "      <th>SLP</th>\n",
              "      <th>H</th>\n",
              "      <th>VV</th>\n",
              "      <th>V</th>\n",
              "      <th>VM</th>\n",
              "      <th>Quality</th>\n",
              "    </tr>\n",
              "  </thead>\n",
              "  <tbody>\n",
              "    <tr>\n",
              "      <th>0</th>\n",
              "      <td>7.4</td>\n",
              "      <td>9.8</td>\n",
              "      <td>4.8</td>\n",
              "      <td>1017.6</td>\n",
              "      <td>93.0</td>\n",
              "      <td>0.5</td>\n",
              "      <td>4.3</td>\n",
              "      <td>9.4</td>\n",
              "      <td>Hazardous</td>\n",
              "    </tr>\n",
              "    <tr>\n",
              "      <th>1</th>\n",
              "      <td>7.8</td>\n",
              "      <td>12.7</td>\n",
              "      <td>4.4</td>\n",
              "      <td>1018.5</td>\n",
              "      <td>87.0</td>\n",
              "      <td>0.6</td>\n",
              "      <td>4.4</td>\n",
              "      <td>11.1</td>\n",
              "      <td>Unhealthy for Strong People</td>\n",
              "    </tr>\n",
              "    <tr>\n",
              "      <th>2</th>\n",
              "      <td>6.7</td>\n",
              "      <td>13.4</td>\n",
              "      <td>2.4</td>\n",
              "      <td>1019.4</td>\n",
              "      <td>82.0</td>\n",
              "      <td>0.6</td>\n",
              "      <td>4.8</td>\n",
              "      <td>11.1</td>\n",
              "      <td>Unhealthy for Strong People</td>\n",
              "    </tr>\n",
              "    <tr>\n",
              "      <th>3</th>\n",
              "      <td>8.6</td>\n",
              "      <td>15.5</td>\n",
              "      <td>3.3</td>\n",
              "      <td>1018.7</td>\n",
              "      <td>72.0</td>\n",
              "      <td>0.8</td>\n",
              "      <td>8.1</td>\n",
              "      <td>20.6</td>\n",
              "      <td>Hazardous</td>\n",
              "    </tr>\n",
              "    <tr>\n",
              "      <th>4</th>\n",
              "      <td>12.4</td>\n",
              "      <td>20.9</td>\n",
              "      <td>4.4</td>\n",
              "      <td>1017.3</td>\n",
              "      <td>61.0</td>\n",
              "      <td>1.3</td>\n",
              "      <td>8.7</td>\n",
              "      <td>22.2</td>\n",
              "      <td>Hazardous</td>\n",
              "    </tr>\n",
              "  </tbody>\n",
              "</table>\n",
              "</div>"
            ],
            "text/plain": [
              "      T    TM   Tm     SLP     H   VV    V    VM                      Quality\n",
              "0   7.4   9.8  4.8  1017.6  93.0  0.5  4.3   9.4                    Hazardous\n",
              "1   7.8  12.7  4.4  1018.5  87.0  0.6  4.4  11.1  Unhealthy for Strong People\n",
              "2   6.7  13.4  2.4  1019.4  82.0  0.6  4.8  11.1  Unhealthy for Strong People\n",
              "3   8.6  15.5  3.3  1018.7  72.0  0.8  8.1  20.6                    Hazardous\n",
              "4  12.4  20.9  4.4  1017.3  61.0  1.3  8.7  22.2                    Hazardous"
            ]
          },
          "metadata": {
            "tags": []
          },
          "execution_count": 22
        }
      ]
    },
    {
      "cell_type": "code",
      "metadata": {
        "id": "fIOtTGiKQXMN"
      },
      "source": [
        "cor_mat = dataframe.corr()"
      ],
      "execution_count": 23,
      "outputs": []
    },
    {
      "cell_type": "code",
      "metadata": {
        "colab": {
          "base_uri": "https://localhost:8080/",
          "height": 314
        },
        "id": "8x5kqawwQdzT",
        "outputId": "fb06c028-ea39-43fa-f8f7-0650d571fea2"
      },
      "source": [
        "cor_mat"
      ],
      "execution_count": 24,
      "outputs": [
        {
          "output_type": "execute_result",
          "data": {
            "text/html": [
              "<div>\n",
              "<style scoped>\n",
              "    .dataframe tbody tr th:only-of-type {\n",
              "        vertical-align: middle;\n",
              "    }\n",
              "\n",
              "    .dataframe tbody tr th {\n",
              "        vertical-align: top;\n",
              "    }\n",
              "\n",
              "    .dataframe thead th {\n",
              "        text-align: right;\n",
              "    }\n",
              "</style>\n",
              "<table border=\"1\" class=\"dataframe\">\n",
              "  <thead>\n",
              "    <tr style=\"text-align: right;\">\n",
              "      <th></th>\n",
              "      <th>T</th>\n",
              "      <th>TM</th>\n",
              "      <th>Tm</th>\n",
              "      <th>SLP</th>\n",
              "      <th>H</th>\n",
              "      <th>VV</th>\n",
              "      <th>V</th>\n",
              "      <th>VM</th>\n",
              "      <th>PM 2.5</th>\n",
              "    </tr>\n",
              "  </thead>\n",
              "  <tbody>\n",
              "    <tr>\n",
              "      <th>T</th>\n",
              "      <td>1.000000</td>\n",
              "      <td>0.967536</td>\n",
              "      <td>0.953719</td>\n",
              "      <td>-0.881409</td>\n",
              "      <td>-0.509299</td>\n",
              "      <td>0.640792</td>\n",
              "      <td>0.301994</td>\n",
              "      <td>0.287738</td>\n",
              "      <td>-0.631462</td>\n",
              "    </tr>\n",
              "    <tr>\n",
              "      <th>TM</th>\n",
              "      <td>0.967536</td>\n",
              "      <td>1.000000</td>\n",
              "      <td>0.892031</td>\n",
              "      <td>-0.822958</td>\n",
              "      <td>-0.586681</td>\n",
              "      <td>0.606945</td>\n",
              "      <td>0.292949</td>\n",
              "      <td>0.297011</td>\n",
              "      <td>-0.568409</td>\n",
              "    </tr>\n",
              "    <tr>\n",
              "      <th>Tm</th>\n",
              "      <td>0.953719</td>\n",
              "      <td>0.892031</td>\n",
              "      <td>1.000000</td>\n",
              "      <td>-0.917518</td>\n",
              "      <td>-0.287357</td>\n",
              "      <td>0.577240</td>\n",
              "      <td>0.296225</td>\n",
              "      <td>0.266782</td>\n",
              "      <td>-0.673824</td>\n",
              "    </tr>\n",
              "    <tr>\n",
              "      <th>SLP</th>\n",
              "      <td>-0.881409</td>\n",
              "      <td>-0.822958</td>\n",
              "      <td>-0.917518</td>\n",
              "      <td>1.000000</td>\n",
              "      <td>0.240256</td>\n",
              "      <td>-0.517915</td>\n",
              "      <td>-0.329838</td>\n",
              "      <td>-0.310704</td>\n",
              "      <td>0.623187</td>\n",
              "    </tr>\n",
              "    <tr>\n",
              "      <th>H</th>\n",
              "      <td>-0.509299</td>\n",
              "      <td>-0.586681</td>\n",
              "      <td>-0.287357</td>\n",
              "      <td>0.240256</td>\n",
              "      <td>1.000000</td>\n",
              "      <td>-0.465374</td>\n",
              "      <td>-0.380575</td>\n",
              "      <td>-0.362177</td>\n",
              "      <td>0.138005</td>\n",
              "    </tr>\n",
              "    <tr>\n",
              "      <th>VV</th>\n",
              "      <td>0.640792</td>\n",
              "      <td>0.606945</td>\n",
              "      <td>0.577240</td>\n",
              "      <td>-0.517915</td>\n",
              "      <td>-0.465374</td>\n",
              "      <td>1.000000</td>\n",
              "      <td>0.376873</td>\n",
              "      <td>0.342442</td>\n",
              "      <td>-0.573941</td>\n",
              "    </tr>\n",
              "    <tr>\n",
              "      <th>V</th>\n",
              "      <td>0.301994</td>\n",
              "      <td>0.292949</td>\n",
              "      <td>0.296225</td>\n",
              "      <td>-0.329838</td>\n",
              "      <td>-0.380575</td>\n",
              "      <td>0.376873</td>\n",
              "      <td>1.000000</td>\n",
              "      <td>0.775655</td>\n",
              "      <td>-0.268530</td>\n",
              "    </tr>\n",
              "    <tr>\n",
              "      <th>VM</th>\n",
              "      <td>0.287738</td>\n",
              "      <td>0.297011</td>\n",
              "      <td>0.266782</td>\n",
              "      <td>-0.310704</td>\n",
              "      <td>-0.362177</td>\n",
              "      <td>0.342442</td>\n",
              "      <td>0.775655</td>\n",
              "      <td>1.000000</td>\n",
              "      <td>-0.215854</td>\n",
              "    </tr>\n",
              "    <tr>\n",
              "      <th>PM 2.5</th>\n",
              "      <td>-0.631462</td>\n",
              "      <td>-0.568409</td>\n",
              "      <td>-0.673824</td>\n",
              "      <td>0.623187</td>\n",
              "      <td>0.138005</td>\n",
              "      <td>-0.573941</td>\n",
              "      <td>-0.268530</td>\n",
              "      <td>-0.215854</td>\n",
              "      <td>1.000000</td>\n",
              "    </tr>\n",
              "  </tbody>\n",
              "</table>\n",
              "</div>"
            ],
            "text/plain": [
              "               T        TM        Tm  ...         V        VM    PM 2.5\n",
              "T       1.000000  0.967536  0.953719  ...  0.301994  0.287738 -0.631462\n",
              "TM      0.967536  1.000000  0.892031  ...  0.292949  0.297011 -0.568409\n",
              "Tm      0.953719  0.892031  1.000000  ...  0.296225  0.266782 -0.673824\n",
              "SLP    -0.881409 -0.822958 -0.917518  ... -0.329838 -0.310704  0.623187\n",
              "H      -0.509299 -0.586681 -0.287357  ... -0.380575 -0.362177  0.138005\n",
              "VV      0.640792  0.606945  0.577240  ...  0.376873  0.342442 -0.573941\n",
              "V       0.301994  0.292949  0.296225  ...  1.000000  0.775655 -0.268530\n",
              "VM      0.287738  0.297011  0.266782  ...  0.775655  1.000000 -0.215854\n",
              "PM 2.5 -0.631462 -0.568409 -0.673824  ... -0.268530 -0.215854  1.000000\n",
              "\n",
              "[9 rows x 9 columns]"
            ]
          },
          "metadata": {
            "tags": []
          },
          "execution_count": 24
        }
      ]
    },
    {
      "cell_type": "code",
      "metadata": {
        "colab": {
          "base_uri": "https://localhost:8080/",
          "height": 595
        },
        "id": "yg-THtubQfnW",
        "outputId": "1c8b46cc-d238-46da-fdb4-305b9524dd5e"
      },
      "source": [
        "top_corr_features = cor_mat.index\r\n",
        "plt.figure(figsize=(10,10))\r\n",
        "#plot heat map\r\n",
        "g=sns.heatmap(dataframe[top_corr_features].corr(),annot=True,cmap=\"RdYlGn\")"
      ],
      "execution_count": 25,
      "outputs": [
        {
          "output_type": "display_data",
          "data": {
            "image/png": "[encoded data removed]",
            "text/plain": [
              "<Figure size 720x720 with 2 Axes>"
            ]
          },
          "metadata": {
            "tags": [],
            "needs_background": "light"
          }
        }
      ]
    },
    {
      "cell_type": "code",
      "metadata": {
        "id": "cAVDbwiFQhhO"
      },
      "source": [
        "# removing PM 2.5 = 0 rows\r\n",
        "zero_pm_values = dataframe.index[dataframe['PM 2.5'] == True].tolist()\r\n",
        "df2 = dataframe.drop(zero_pm_values, axis=0)\r\n",
        "Y = df2['PM 2.5']\r\n",
        "X = df2.drop(['PM 2.5'], axis=1)"
      ],
      "execution_count": 26,
      "outputs": []
    },
    {
      "cell_type": "code",
      "metadata": {
        "colab": {
          "base_uri": "https://localhost:8080/",
          "height": 298
        },
        "id": "tFM3-6AvQjjl",
        "outputId": "01c54605-b93c-4267-ac2e-a547b75f1f42"
      },
      "source": [
        "from sklearn.ensemble import ExtraTreesClassifier\r\n",
        "model = ExtraTreesClassifier()\r\n",
        "model.fit(X,np.array(Y, dtype=np.int64))\r\n",
        "# use inbuilt class feature_importances of tree based classifiers\r\n",
        "print(model.feature_importances_) \r\n",
        "# plot graph of feature importances for better visualization\r\n",
        "feat_importances = pd.Series(model.feature_importances_, index=X.columns)\r\n",
        "feat_importances.nlargest(len(X)).plot(kind='barh')\r\n",
        "plt.show()"
      ],
      "execution_count": 27,
      "outputs": [
        {
          "output_type": "stream",
          "text": [
            "[0.12997975 0.129083   0.12884845 0.12865601 0.12717805 0.12177938\n",
            " 0.12616744 0.10830793]\n"
          ],
          "name": "stdout"
        },
        {
          "output_type": "display_data",
          "data": {
            "image/png": "[encoded data removed]",
            "text/plain": [
              "<Figure size 432x288 with 1 Axes>"
            ]
          },
          "metadata": {
            "tags": [],
            "needs_background": "light"
          }
        }
      ]
    },
    {
      "cell_type": "code",
      "metadata": {
        "id": "hIJPR_lEQley"
      },
      "source": [
        "from sklearn.model_selection import train_test_split"
      ],
      "execution_count": 28,
      "outputs": []
    },
    {
      "cell_type": "code",
      "metadata": {
        "id": "QH-FJ5zAQnNL"
      },
      "source": [
        "X_train, X_test, Y_train, Y_test = train_test_split(X, Y, test_size=0.1, random_state=4)"
      ],
      "execution_count": 29,
      "outputs": []
    },
    {
      "cell_type": "code",
      "metadata": {
        "id": "Dnd3x74LQoru"
      },
      "source": [
        "from sklearn.linear_model import LinearRegression"
      ],
      "execution_count": 30,
      "outputs": []
    },
    {
      "cell_type": "code",
      "metadata": {
        "colab": {
          "base_uri": "https://localhost:8080/"
        },
        "id": "m7lWeJQ5QrS0",
        "outputId": "2beb1528-7470-44cd-9972-2e4deaf25eac"
      },
      "source": [
        "reg=LinearRegression()\r\n",
        "reg.fit(X_train,Y_train)\r\n",
        "LinearRegression()"
      ],
      "execution_count": 31,
      "outputs": [
        {
          "output_type": "execute_result",
          "data": {
            "text/plain": [
              "LinearRegression(copy_X=True, fit_intercept=True, n_jobs=None, normalize=False)"
            ]
          },
          "metadata": {
            "tags": []
          },
          "execution_count": 31
        }
      ]
    },
    {
      "cell_type": "code",
      "metadata": {
        "colab": {
          "base_uri": "https://localhost:8080/"
        },
        "id": "ZmmUf7lDQxkF",
        "outputId": "1ff9604b-be26-486f-8ade-aeca7225f830"
      },
      "source": [
        "reg.coef_"
      ],
      "execution_count": 32,
      "outputs": [
        {
          "output_type": "execute_result",
          "data": {
            "text/plain": [
              "array([ -1.52106239,   0.89432938,  -5.03108116,   0.19429328,\n",
              "        -1.07921902, -36.79188723,  -1.92770436,   0.51430788])"
            ]
          },
          "metadata": {
            "tags": []
          },
          "execution_count": 32
        }
      ]
    },
    {
      "cell_type": "code",
      "metadata": {
        "colab": {
          "base_uri": "https://localhost:8080/"
        },
        "id": "SS0AY8UhQyNL",
        "outputId": "ba1d9c0d-50bf-4b6c-89b6-17a1ea5e41fe"
      },
      "source": [
        "reg.intercept_"
      ],
      "execution_count": 33,
      "outputs": [
        {
          "output_type": "execute_result",
          "data": {
            "text/plain": [
              "167.52513302898893"
            ]
          },
          "metadata": {
            "tags": []
          },
          "execution_count": 33
        }
      ]
    },
    {
      "cell_type": "code",
      "metadata": {
        "id": "FU72Ve16Qzw7"
      },
      "source": [
        "Y_predic=reg.predict(X_test)"
      ],
      "execution_count": 34,
      "outputs": []
    },
    {
      "cell_type": "code",
      "metadata": {
        "colab": {
          "base_uri": "https://localhost:8080/",
          "height": 350
        },
        "id": "QPLsUeDqQ1Rk",
        "outputId": "70f3beee-cba7-41c6-cdef-1cddc2764bcd"
      },
      "source": [
        "sns.distplot(Y_test-Y_predic)"
      ],
      "execution_count": 35,
      "outputs": [
        {
          "output_type": "stream",
          "text": [
            "/usr/local/lib/python3.6/dist-packages/seaborn/distributions.py:2557: FutureWarning: `distplot` is a deprecated function and will be removed in a future version. Please adapt your code to use either `displot` (a figure-level function with similar flexibility) or `histplot` (an axes-level function for histograms).\n",
            "  warnings.warn(msg, FutureWarning)\n"
          ],
          "name": "stderr"
        },
        {
          "output_type": "execute_result",
          "data": {
            "text/plain": [
              "<matplotlib.axes._subplots.AxesSubplot at 0x7f064204a908>"
            ]
          },
          "metadata": {
            "tags": []
          },
          "execution_count": 35
        },
        {
          "output_type": "display_data",
          "data": {
            "image/png": "[encoded data removed]",
            "text/plain": [
              "<Figure size 432x288 with 1 Axes>"
            ]
          },
          "metadata": {
            "tags": [],
            "needs_background": "light"
          }
        }
      ]
    },
    {
      "cell_type": "code",
      "metadata": {
        "colab": {
          "base_uri": "https://localhost:8080/",
          "height": 282
        },
        "id": "3sbsOFL2Q3Cb",
        "outputId": "ab834a2d-0b29-4058-92e5-70be9bd7dbc6"
      },
      "source": [
        "plt.scatter(Y_test,Y_predic)"
      ],
      "execution_count": 36,
      "outputs": [
        {
          "output_type": "execute_result",
          "data": {
            "text/plain": [
              "<matplotlib.collections.PathCollection at 0x7f063ff6bc50>"
            ]
          },
          "metadata": {
            "tags": []
          },
          "execution_count": 36
        },
        {
          "output_type": "display_data",
          "data": {
            "image/png": "[encoded data removed]",
            "text/plain": [
              "<Figure size 432x288 with 1 Axes>"
            ]
          },
          "metadata": {
            "tags": [],
            "needs_background": "light"
          }
        }
      ]
    },
    {
      "cell_type": "code",
      "metadata": {
        "colab": {
          "base_uri": "https://localhost:8080/"
        },
        "id": "8LYxiKUGQ40l",
        "outputId": "5c974cee-1a16-445d-f702-de10967ea9a8"
      },
      "source": [
        "reg.score(X_test, Y_test)"
      ],
      "execution_count": 37,
      "outputs": [
        {
          "output_type": "execute_result",
          "data": {
            "text/plain": [
              "0.5802720678731238"
            ]
          },
          "metadata": {
            "tags": []
          },
          "execution_count": 37
        }
      ]
    },
    {
      "cell_type": "code",
      "metadata": {
        "colab": {
          "base_uri": "https://localhost:8080/"
        },
        "id": "ZTvRAAusQ6XN",
        "outputId": "a3bed4b6-4b9b-4bf2-e9e7-f836c11cabf9"
      },
      "source": [
        "reg.score(X_train, Y_train)"
      ],
      "execution_count": 38,
      "outputs": [
        {
          "output_type": "execute_result",
          "data": {
            "text/plain": [
              "0.5263281020265338"
            ]
          },
          "metadata": {
            "tags": []
          },
          "execution_count": 38
        }
      ]
    },
    {
      "cell_type": "code",
      "metadata": {
        "id": "4g8WzmkQQ7wJ"
      },
      "source": [
        "from sklearn.model_selection import cross_val_score"
      ],
      "execution_count": 39,
      "outputs": []
    },
    {
      "cell_type": "code",
      "metadata": {
        "colab": {
          "base_uri": "https://localhost:8080/"
        },
        "id": "0f4_sPOgQ9e0",
        "outputId": "0f3bfeb1-f217-47be-c0b1-aa746eb7a03e"
      },
      "source": [
        "cross_val_score(reg, X_train, Y_train, cv=5)"
      ],
      "execution_count": 40,
      "outputs": [
        {
          "output_type": "execute_result",
          "data": {
            "text/plain": [
              "array([0.47601797, 0.52809419, 0.54777608, 0.54880269, 0.49390559])"
            ]
          },
          "metadata": {
            "tags": []
          },
          "execution_count": 40
        }
      ]
    }
  ]
}