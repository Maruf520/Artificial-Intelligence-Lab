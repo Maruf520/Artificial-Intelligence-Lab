{
  "nbformat": 4,
  "nbformat_minor": 0,
  "metadata": {
    "colab": {
      "name": "Untitled12.ipynb",
      "provenance": [],
      "authorship_tag": "ABX9TyNUohbwCH1W/Y/IVv2O117g",
      "include_colab_link": true
    },
    "kernelspec": {
      "name": "python3",
      "display_name": "Python 3"
    }
  },
  "cells": [
    {
      "cell_type": "markdown",
      "metadata": {
        "id": "view-in-github",
        "colab_type": "text"
      },
      "source": [
        "<a href=\"https://colab.research.google.com/github/Maruf520/Artificial-Intelligence-Lab/blob/main/word%20prediction%20using%20tri-gram.ipynb\" target=\"_parent\"><img src=\"https://colab.research.google.com/assets/colab-badge.svg\" alt=\"Open In Colab\"/></a>"
      ]
    },
    {
      "cell_type": "code",
      "metadata": {
        "id": "UjrhiQn9s1tU"
      },
      "source": [
        "import nltk\r\n",
        "from nltk import bigrams, trigrams\r\n",
        "from collections import Counter, defaultdict\r\n",
        "import os"
      ],
      "execution_count": 1,
      "outputs": []
    },
    {
      "cell_type": "code",
      "metadata": {
        "colab": {
          "base_uri": "https://localhost:8080/"
        },
        "id": "8Wo-kQzNs8EJ",
        "outputId": "2ffbb783-61a2-438f-a4f0-d3c9be88a074"
      },
      "source": [
        "\r\n",
        "nltk.download('reuters')\r\n",
        "nltk.download('punkt')"
      ],
      "execution_count": 2,
      "outputs": [
        {
          "output_type": "stream",
          "text": [
            "[nltk_data] Downloading package reuters to /root/nltk_data...\n",
            "[nltk_data] Downloading package punkt to /root/nltk_data...\n",
            "[nltk_data]   Unzipping tokenizers/punkt.zip.\n"
          ],
          "name": "stdout"
        },
        {
          "output_type": "execute_result",
          "data": {
            "text/plain": [
              "True"
            ]
          },
          "metadata": {
            "tags": []
          },
          "execution_count": 2
        }
      ]
    },
    {
      "cell_type": "code",
      "metadata": {
        "id": "D8hXaeIps-ku"
      },
      "source": [
        "from nltk.corpus import reuters\r\n",
        "def tryToLower(u):\r\n",
        "  if type(u)==str:\r\n",
        "    return u.lower()\r\n",
        "  return u"
      ],
      "execution_count": 3,
      "outputs": []
    },
    {
      "cell_type": "code",
      "metadata": {
        "id": "0nSGKXxdtBBd"
      },
      "source": [
        "from nltk.corpus import reuters"
      ],
      "execution_count": 4,
      "outputs": []
    },
    {
      "cell_type": "code",
      "metadata": {
        "id": "noljm91stCp1"
      },
      "source": [
        "# Create a placeholder for model\r\n",
        "model1 = defaultdict(lambda: 0)\r\n",
        "model2 = defaultdict(lambda: defaultdict(lambda: 0))\r\n",
        "model3 = defaultdict(lambda: defaultdict(lambda: 0))\r\n",
        "model4 = defaultdict(lambda: set())\r\n",
        "model5 = defaultdict(lambda: set())\r\n",
        "\r\n",
        "total_word=0\r\n",
        "\r\n",
        "# Count frequency of co-occurance  \r\n",
        "for sentence in reuters.sents():\r\n",
        "  for word in sentence:\r\n",
        "    model1[word]+=1\r\n",
        "    total_word+=1\r\n",
        "  for w1, w2, w3 in trigrams(sentence, pad_right=True, pad_left=True):\r\n",
        "    w1=tryToLower(w1)\r\n",
        "    w2=tryToLower(w2)\r\n",
        "    w3=tryToLower(w3)\r\n",
        "    model2[w3][w2] += 1\r\n",
        "    model3[w3][w1] += 1\r\n",
        "    model4[w2].add(w3)\r\n",
        "    model5[w1].add(w3)"
      ],
      "execution_count": 5,
      "outputs": []
    },
    {
      "cell_type": "code",
      "metadata": {
        "id": "xPG4AFkMtEuP"
      },
      "source": [
        "def calculateProbablities(model):\r\n",
        "  for wNext in model:\r\n",
        "    total_count = float(sum(model[wNext].values()))\r\n",
        "    for wPrev in model[wNext]:\r\n",
        "        model[wNext][wPrev] /= total_count"
      ],
      "execution_count": 6,
      "outputs": []
    },
    {
      "cell_type": "code",
      "metadata": {
        "id": "W0GQxk34tHY2"
      },
      "source": [
        "calculateProbablities(model2)\r\n",
        "calculateProbablities(model3)\r\n",
        "\r\n",
        "for word in model1:\r\n",
        "  model1[word] /=total_word"
      ],
      "execution_count": 7,
      "outputs": []
    },
    {
      "cell_type": "code",
      "metadata": {
        "id": "5l9CbgQPtJiw"
      },
      "source": [
        "def calculateTrigramProbabilityChain(w1,w2,w3):\r\n",
        "  return model1[w3]*model2[w3][w2]*model3[w3][w1]"
      ],
      "execution_count": 8,
      "outputs": []
    },
    {
      "cell_type": "code",
      "metadata": {
        "id": "E48wpFbptLwY"
      },
      "source": [
        "\r\n",
        "# Create a placeholder for model\r\n",
        "model = defaultdict(lambda: defaultdict(lambda: 0))\r\n",
        "\r\n",
        "# Count frequency of co-occurance  \r\n",
        "for sentence in reuters.sents():\r\n",
        "  # print(sentence)\r\n",
        "  for w1, w2, w3 in trigrams(sentence, pad_right=True, pad_left=True):\r\n",
        "    model[(w1, w2)][w3] += 1"
      ],
      "execution_count": 9,
      "outputs": []
    },
    {
      "cell_type": "code",
      "metadata": {
        "id": "vzRUfI5dtOFm"
      },
      "source": [
        "# Let's transform the counts to probabilities\r\n",
        "for w1_w2 in model:\r\n",
        "  total_count = float(sum(model[w1_w2].values()))\r\n",
        "  for w3 in model[w1_w2]:\r\n",
        "    model[w1_w2][w3] /= total_count"
      ],
      "execution_count": 10,
      "outputs": []
    },
    {
      "cell_type": "code",
      "metadata": {
        "id": "5Pq7nUihtRcm"
      },
      "source": [
        "\r\n",
        "#predicting the next word\r\n",
        "predictions =  dict(model[\"this\", \"is\"])"
      ],
      "execution_count": 11,
      "outputs": []
    },
    {
      "cell_type": "code",
      "metadata": {
        "colab": {
          "base_uri": "https://localhost:8080/"
        },
        "id": "XhQRXoKjtUUX",
        "outputId": "112a2056-4883-4a2e-f1c2-9acf1acb673f"
      },
      "source": [
        "type(predictions)"
      ],
      "execution_count": 12,
      "outputs": [
        {
          "output_type": "execute_result",
          "data": {
            "text/plain": [
              "dict"
            ]
          },
          "metadata": {
            "tags": []
          },
          "execution_count": 12
        }
      ]
    },
    {
      "cell_type": "code",
      "metadata": {
        "colab": {
          "base_uri": "https://localhost:8080/"
        },
        "id": "fl9AC28MtWbH",
        "outputId": "622d8833-023d-4a57-99d1-50ee2782382b"
      },
      "source": [
        "top_predicted = dict(sorted(predictions.items(), key=lambda item: item[1],reverse=True))\r\n",
        "top_predicted"
      ],
      "execution_count": 13,
      "outputs": [
        {
          "output_type": "execute_result",
          "data": {
            "text/plain": [
              "{'700': 0.018867924528301886,\n",
              " 'a': 0.24528301886792453,\n",
              " 'about': 0.018867924528301886,\n",
              " 'also': 0.018867924528301886,\n",
              " 'an': 0.03773584905660377,\n",
              " 'approved': 0.018867924528301886,\n",
              " 'available': 0.018867924528301886,\n",
              " 'believed': 0.018867924528301886,\n",
              " 'definitely': 0.018867924528301886,\n",
              " 'done': 0.03773584905660377,\n",
              " 'expected': 0.018867924528301886,\n",
              " 'hardly': 0.03773584905660377,\n",
              " 'most': 0.018867924528301886,\n",
              " 'not': 0.07547169811320754,\n",
              " 'now': 0.018867924528301886,\n",
              " 'partly': 0.018867924528301886,\n",
              " 'possible': 0.018867924528301886,\n",
              " 'probably': 0.018867924528301886,\n",
              " 'still': 0.018867924528301886,\n",
              " 'the': 0.24528301886792453,\n",
              " 'underpinning': 0.018867924528301886,\n",
              " 'unlikely': 0.018867924528301886,\n",
              " 'within': 0.018867924528301886}"
            ]
          },
          "metadata": {
            "tags": []
          },
          "execution_count": 13
        }
      ]
    },
    {
      "cell_type": "code",
      "metadata": {
        "colab": {
          "base_uri": "https://localhost:8080/"
        },
        "id": "rAWXraOitaP3",
        "outputId": "2668be1e-f4c6-42e6-9a7f-7fbe148ffd5e"
      },
      "source": [
        "top_keys = []\r\n",
        "for x in top_predicted.keys():\r\n",
        "  top_keys.append(x)\r\n",
        "\r\n",
        "for i in range(10):\r\n",
        "  print(top_keys[i],top_predicted[top_keys[i]])"
      ],
      "execution_count": 14,
      "outputs": [
        {
          "output_type": "stream",
          "text": [
            "a 0.24528301886792453\n",
            "the 0.24528301886792453\n",
            "not 0.07547169811320754\n",
            "hardly 0.03773584905660377\n",
            "done 0.03773584905660377\n",
            "an 0.03773584905660377\n",
            "believed 0.018867924528301886\n",
            "partly 0.018867924528301886\n",
            "most 0.018867924528301886\n",
            "definitely 0.018867924528301886\n"
          ],
          "name": "stdout"
        }
      ]
    }
  ]
}