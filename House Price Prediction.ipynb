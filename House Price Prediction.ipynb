{
  "nbformat": 4,
  "nbformat_minor": 0,
  "metadata": {
    "colab": {
      "name": "Untitled8.ipynb",
      "provenance": [],
      "authorship_tag": "ABX9TyPC06WYWFb8mo2UOXFDRaSs",
      "include_colab_link": true
    },
    "kernelspec": {
      "name": "python3",
      "display_name": "Python 3"
    }
  },
  "cells": [
    {
      "cell_type": "markdown",
      "metadata": {
        "id": "view-in-github",
        "colab_type": "text"
      },
      "source": [
        "<a href=\"https://colab.research.google.com/github/Maruf520/Artificial-Intelligence-Lab/blob/main/House%20Price%20Prediction.ipynb\" target=\"_parent\"><img src=\"https://colab.research.google.com/assets/colab-badge.svg\" alt=\"Open In Colab\"/></a>"
      ]
    },
    {
      "cell_type": "code",
      "metadata": {
        "id": "0Y-OaK2HsuLZ"
      },
      "source": [
        "import pandas as pd\r\n",
        "from matplotlib import pyplot as plt\r\n",
        "import seaborn as sns\r\n",
        "from numpy import unique"
      ],
      "execution_count": 52,
      "outputs": []
    },
    {
      "cell_type": "code",
      "metadata": {
        "id": "Xxuk3Lb5sxt4"
      },
      "source": [
        "df = pd.read_csv('/content/sample_data/house_price_Dataset.csv')"
      ],
      "execution_count": 53,
      "outputs": []
    },
    {
      "cell_type": "code",
      "metadata": {
        "colab": {
          "base_uri": "https://localhost:8080/"
        },
        "id": "zHWzjI6Ws2qW",
        "outputId": "61066a00-50aa-4f32-a117-9021621c12b7"
      },
      "source": [
        "df.shape"
      ],
      "execution_count": 54,
      "outputs": [
        {
          "output_type": "execute_result",
          "data": {
            "text/plain": [
              "(21613, 21)"
            ]
          },
          "metadata": {
            "tags": []
          },
          "execution_count": 54
        }
      ]
    },
    {
      "cell_type": "code",
      "metadata": {
        "id": "zrTucGy2s3IO"
      },
      "source": [
        "df = df.head(1000)"
      ],
      "execution_count": 55,
      "outputs": []
    },
    {
      "cell_type": "code",
      "metadata": {
        "colab": {
          "base_uri": "https://localhost:8080/"
        },
        "id": "XB8G3BtXs5Ye",
        "outputId": "e4adc934-dd4a-4b09-a7b8-bc02db0bb01a"
      },
      "source": [
        "df.shape"
      ],
      "execution_count": 56,
      "outputs": [
        {
          "output_type": "execute_result",
          "data": {
            "text/plain": [
              "(1000, 21)"
            ]
          },
          "metadata": {
            "tags": []
          },
          "execution_count": 56
        }
      ]
    },
    {
      "cell_type": "code",
      "metadata": {
        "colab": {
          "base_uri": "https://localhost:8080/"
        },
        "id": "g5_5tNOSs7Mg",
        "outputId": "8f40994d-29fe-4492-8f5b-6dab97bea748"
      },
      "source": [
        "df.columns"
      ],
      "execution_count": 57,
      "outputs": [
        {
          "output_type": "execute_result",
          "data": {
            "text/plain": [
              "Index(['id', 'date', 'price', 'bedrooms', 'bathrooms', 'sqft_living',\n",
              "       'sqft_lot', 'floors', 'waterfront', 'view', 'condition', 'grade',\n",
              "       'sqft_above', 'sqft_basement', 'yr_built', 'yr_renovated', 'zipcode',\n",
              "       'lat', 'long', 'sqft_living15', 'sqft_lot15'],\n",
              "      dtype='object')"
            ]
          },
          "metadata": {
            "tags": []
          },
          "execution_count": 57
        }
      ]
    },
    {
      "cell_type": "code",
      "metadata": {
        "colab": {
          "base_uri": "https://localhost:8080/"
        },
        "id": "2O_Z_bh5s9IC",
        "outputId": "3b168bd2-0bc6-4ee7-e9de-2c7b4d95a6fa"
      },
      "source": [
        "for d_col in df.columns:\r\n",
        "    print(d_col, ': ', len(unique(df[d_col])))"
      ],
      "execution_count": 58,
      "outputs": [
        {
          "output_type": "stream",
          "text": [
            "id :  992\n",
            "date :  272\n",
            "price :  591\n",
            "bedrooms :  8\n",
            "bathrooms :  19\n",
            "sqft_living :  321\n",
            "sqft_lot :  829\n",
            "floors :  6\n",
            "waterfront :  2\n",
            "view :  5\n",
            "condition :  5\n",
            "grade :  9\n",
            "sqft_above :  291\n",
            "sqft_basement :  140\n",
            "yr_built :  114\n",
            "yr_renovated :  25\n",
            "zipcode :  69\n",
            "lat :  896\n",
            "long :  405\n",
            "sqft_living15 :  267\n",
            "sqft_lot15 :  799\n"
          ],
          "name": "stdout"
        }
      ]
    },
    {
      "cell_type": "code",
      "metadata": {
        "id": "VzWcG6R4s_3P"
      },
      "source": [
        "\r\n",
        "df = df.dropna() # dropping null entities\r\n",
        "df = df.drop(['id', 'date'], axis=1) # dropping unnecessary column `id` and `date`"
      ],
      "execution_count": 59,
      "outputs": []
    },
    {
      "cell_type": "code",
      "metadata": {
        "colab": {
          "base_uri": "https://localhost:8080/"
        },
        "id": "4v5FrHbttCUN",
        "outputId": "95861dcf-c939-4328-8323-fbce7ae2a69b"
      },
      "source": [
        "df.columns"
      ],
      "execution_count": 60,
      "outputs": [
        {
          "output_type": "execute_result",
          "data": {
            "text/plain": [
              "Index(['price', 'bedrooms', 'bathrooms', 'sqft_living', 'sqft_lot', 'floors',\n",
              "       'waterfront', 'view', 'condition', 'grade', 'sqft_above',\n",
              "       'sqft_basement', 'yr_built', 'yr_renovated', 'zipcode', 'lat', 'long',\n",
              "       'sqft_living15', 'sqft_lot15'],\n",
              "      dtype='object')"
            ]
          },
          "metadata": {
            "tags": []
          },
          "execution_count": 60
        }
      ]
    },
    {
      "cell_type": "code",
      "metadata": {
        "id": "2tGbM01EtERW"
      },
      "source": [
        "X = df.iloc[:,1:]  # independent columns\r\n",
        "Y = df.iloc[:,0]   # target column i.e price"
      ],
      "execution_count": 61,
      "outputs": []
    },
    {
      "cell_type": "code",
      "metadata": {
        "colab": {
          "base_uri": "https://localhost:8080/"
        },
        "id": "es9m-ZUxtGsK",
        "outputId": "fdf715ae-aa76-4e2c-da5f-13550ec08811"
      },
      "source": [
        "X.columns"
      ],
      "execution_count": 62,
      "outputs": [
        {
          "output_type": "execute_result",
          "data": {
            "text/plain": [
              "Index(['bedrooms', 'bathrooms', 'sqft_living', 'sqft_lot', 'floors',\n",
              "       'waterfront', 'view', 'condition', 'grade', 'sqft_above',\n",
              "       'sqft_basement', 'yr_built', 'yr_renovated', 'zipcode', 'lat', 'long',\n",
              "       'sqft_living15', 'sqft_lot15'],\n",
              "      dtype='object')"
            ]
          },
          "metadata": {
            "tags": []
          },
          "execution_count": 62
        }
      ]
    },
    {
      "cell_type": "code",
      "metadata": {
        "colab": {
          "base_uri": "https://localhost:8080/",
          "height": 315
        },
        "id": "zW3_ugBptIug",
        "outputId": "92b3ad4f-c040-486f-a6d3-4e0a35253f68"
      },
      "source": [
        "from sklearn.ensemble import ExtraTreesClassifier\r\n",
        "model = ExtraTreesClassifier()\r\n",
        "model.fit(X,Y)\r\n",
        "print(model.feature_importances_) #use inbuilt class feature_importances of tree based classifiers\r\n",
        "#plot graph of feature importances for better visualization\r\n",
        "feat_importances = pd.Series(model.feature_importances_, index=X.columns)\r\n",
        "feat_importances.nlargest(len(X)).plot(kind='barh')\r\n",
        "plt.show()"
      ],
      "execution_count": 63,
      "outputs": [
        {
          "output_type": "stream",
          "text": [
            "[0.04467472 0.05771206 0.08113871 0.07909465 0.02785022 0.00161304\n",
            " 0.01414488 0.0397073  0.04347665 0.07945327 0.04579165 0.07894744\n",
            " 0.00832755 0.07063501 0.08604525 0.08052569 0.08394595 0.07691596]\n"
          ],
          "name": "stdout"
        },
        {
          "output_type": "display_data",
          "data": {
            "image/png": "[encoded data removed]",
            "text/plain": [
              "<Figure size 432x288 with 1 Axes>"
            ]
          },
          "metadata": {
            "tags": [],
            "needs_background": "light"
          }
        }
      ]
    },
    {
      "cell_type": "code",
      "metadata": {
        "id": "lzGmoBjetLAO"
      },
      "source": [
        "X = X[\r\n",
        "[\r\n",
        "    'lat', \r\n",
        "    'sqft_living15', \r\n",
        "    'sqft_living', \r\n",
        "    'long',\r\n",
        "    'sqft_lot',\r\n",
        "    'sqft_above',\r\n",
        "    'sqft_lot15',\r\n",
        "    'yr_built',\r\n",
        "    'zipcode',\r\n",
        "    'bathrooms'\r\n",
        "]]"
      ],
      "execution_count": 64,
      "outputs": []
    },
    {
      "cell_type": "code",
      "metadata": {
        "id": "3be3BK-NtP6m"
      },
      "source": [
        "from sklearn.model_selection import train_test_split"
      ],
      "execution_count": 65,
      "outputs": []
    },
    {
      "cell_type": "code",
      "metadata": {
        "id": "z5GAOpcCtVZO"
      },
      "source": [
        "X_train, X_test, Y_train, Y_test = train_test_split(X, Y, test_size=0.3, random_state=0)"
      ],
      "execution_count": 66,
      "outputs": []
    },
    {
      "cell_type": "code",
      "metadata": {
        "id": "OCJtUn-EtV9w"
      },
      "source": [
        "\r\n",
        "from sklearn.linear_model import LinearRegression"
      ],
      "execution_count": 67,
      "outputs": []
    },
    {
      "cell_type": "code",
      "metadata": {
        "colab": {
          "base_uri": "https://localhost:8080/"
        },
        "id": "fXkf-LCFtXwG",
        "outputId": "2e957142-515e-4606-df82-22cc2fb27789"
      },
      "source": [
        "reg=LinearRegression()\r\n",
        "reg.fit(X_train,Y_train)"
      ],
      "execution_count": 68,
      "outputs": [
        {
          "output_type": "execute_result",
          "data": {
            "text/plain": [
              "LinearRegression(copy_X=True, fit_intercept=True, n_jobs=None, normalize=False)"
            ]
          },
          "metadata": {
            "tags": []
          },
          "execution_count": 68
        }
      ]
    },
    {
      "cell_type": "code",
      "metadata": {
        "id": "6vF9wtjKtZl_"
      },
      "source": [
        "prediction=reg.predict(X_test)"
      ],
      "execution_count": 69,
      "outputs": []
    },
    {
      "cell_type": "code",
      "metadata": {
        "colab": {
          "base_uri": "https://localhost:8080/",
          "height": 361
        },
        "id": "DCmXK-64tbgl",
        "outputId": "d4dd1d00-4523-47a9-c235-a3a08debc697"
      },
      "source": [
        "sns.distplot(Y_test-prediction)"
      ],
      "execution_count": 70,
      "outputs": [
        {
          "output_type": "stream",
          "text": [
            "/usr/local/lib/python3.6/dist-packages/seaborn/distributions.py:2551: FutureWarning: `distplot` is a deprecated function and will be removed in a future version. Please adapt your code to use either `displot` (a figure-level function with similar flexibility) or `histplot` (an axes-level function for histograms).\n",
            "  warnings.warn(msg, FutureWarning)\n"
          ],
          "name": "stderr"
        },
        {
          "output_type": "execute_result",
          "data": {
            "text/plain": [
              "<matplotlib.axes._subplots.AxesSubplot at 0x7f1af828db38>"
            ]
          },
          "metadata": {
            "tags": []
          },
          "execution_count": 70
        },
        {
          "output_type": "display_data",
          "data": {
            "image/png": "[encoded data removed]",
            "text/plain": [
              "<Figure size 432x288 with 1 Axes>"
            ]
          },
          "metadata": {
            "tags": [],
            "needs_background": "light"
          }
        }
      ]
    },
    {
      "cell_type": "code",
      "metadata": {
        "colab": {
          "base_uri": "https://localhost:8080/",
          "height": 306
        },
        "id": "6Ojzh4aDtgxf",
        "outputId": "d8820a5d-9693-41da-9f32-cd050cae0535"
      },
      "source": [
        "plt.scatter(Y_test, prediction)"
      ],
      "execution_count": 71,
      "outputs": [
        {
          "output_type": "execute_result",
          "data": {
            "text/plain": [
              "<matplotlib.collections.PathCollection at 0x7f1af80a5358>"
            ]
          },
          "metadata": {
            "tags": []
          },
          "execution_count": 71
        },
        {
          "output_type": "display_data",
          "data": {
            "image/png": "[encoded data removed]",
            "text/plain": [
              "<Figure size 432x288 with 1 Axes>"
            ]
          },
          "metadata": {
            "tags": [],
            "needs_background": "light"
          }
        }
      ]
    },
    {
      "cell_type": "code",
      "metadata": {
        "id": "b4V_Zb3atjJX"
      },
      "source": [
        "compare = pd.DataFrame({'Actual': Y_test, 'Predicted': prediction})"
      ],
      "execution_count": 72,
      "outputs": []
    },
    {
      "cell_type": "code",
      "metadata": {
        "colab": {
          "base_uri": "https://localhost:8080/",
          "height": 195
        },
        "id": "9jMM3Yo2tlQ_",
        "outputId": "e48c76e4-fdba-49e8-9419-5a0c54c6e950"
      },
      "source": [
        "\r\n",
        "compare.head()"
      ],
      "execution_count": 73,
      "outputs": [
        {
          "output_type": "execute_result",
          "data": {
            "text/html": [
              "<div>\n",
              "<style scoped>\n",
              "    .dataframe tbody tr th:only-of-type {\n",
              "        vertical-align: middle;\n",
              "    }\n",
              "\n",
              "    .dataframe tbody tr th {\n",
              "        vertical-align: top;\n",
              "    }\n",
              "\n",
              "    .dataframe thead th {\n",
              "        text-align: right;\n",
              "    }\n",
              "</style>\n",
              "<table border=\"1\" class=\"dataframe\">\n",
              "  <thead>\n",
              "    <tr style=\"text-align: right;\">\n",
              "      <th></th>\n",
              "      <th>Actual</th>\n",
              "      <th>Predicted</th>\n",
              "    </tr>\n",
              "  </thead>\n",
              "  <tbody>\n",
              "    <tr>\n",
              "      <th>993</th>\n",
              "      <td>253000.0</td>\n",
              "      <td>223911.956564</td>\n",
              "    </tr>\n",
              "    <tr>\n",
              "      <th>859</th>\n",
              "      <td>166600.0</td>\n",
              "      <td>113805.523668</td>\n",
              "    </tr>\n",
              "    <tr>\n",
              "      <th>298</th>\n",
              "      <td>404000.0</td>\n",
              "      <td>556711.686903</td>\n",
              "    </tr>\n",
              "    <tr>\n",
              "      <th>553</th>\n",
              "      <td>261000.0</td>\n",
              "      <td>170746.741698</td>\n",
              "    </tr>\n",
              "    <tr>\n",
              "      <th>672</th>\n",
              "      <td>664000.0</td>\n",
              "      <td>695800.479106</td>\n",
              "    </tr>\n",
              "  </tbody>\n",
              "</table>\n",
              "</div>"
            ],
            "text/plain": [
              "       Actual      Predicted\n",
              "993  253000.0  223911.956564\n",
              "859  166600.0  113805.523668\n",
              "298  404000.0  556711.686903\n",
              "553  261000.0  170746.741698\n",
              "672  664000.0  695800.479106"
            ]
          },
          "metadata": {
            "tags": []
          },
          "execution_count": 73
        }
      ]
    },
    {
      "cell_type": "code",
      "metadata": {
        "id": "eTPej3-rtmuH"
      },
      "source": [
        "from sklearn.metrics import r2_score"
      ],
      "execution_count": 74,
      "outputs": []
    },
    {
      "cell_type": "code",
      "metadata": {
        "colab": {
          "base_uri": "https://localhost:8080/"
        },
        "id": "euuSnJUTtocO",
        "outputId": "35026d62-fa81-49a8-b167-05839b9e559c"
      },
      "source": [
        "r2_score(Y_test, prediction)"
      ],
      "execution_count": 75,
      "outputs": [
        {
          "output_type": "execute_result",
          "data": {
            "text/plain": [
              "0.6516628503372471"
            ]
          },
          "metadata": {
            "tags": []
          },
          "execution_count": 75
        }
      ]
    },
    {
      "cell_type": "code",
      "metadata": {
        "colab": {
          "base_uri": "https://localhost:8080/"
        },
        "id": "Sue_PN8NtqL_",
        "outputId": "3f02f4ee-d34d-4541-8a1e-cf143bea305b"
      },
      "source": [
        "X.columns"
      ],
      "execution_count": 76,
      "outputs": [
        {
          "output_type": "execute_result",
          "data": {
            "text/plain": [
              "Index(['lat', 'sqft_living15', 'sqft_living', 'long', 'sqft_lot', 'sqft_above',\n",
              "       'sqft_lot15', 'yr_built', 'zipcode', 'bathrooms'],\n",
              "      dtype='object')"
            ]
          },
          "metadata": {
            "tags": []
          },
          "execution_count": 76
        }
      ]
    }
  ]
}